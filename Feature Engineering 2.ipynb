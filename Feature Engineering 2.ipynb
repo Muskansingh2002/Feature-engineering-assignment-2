{
 "cells": [
  {
   "cell_type": "markdown",
   "id": "6f6a6b8f-a51a-4034-ada3-e52eb142541d",
   "metadata": {},
   "source": [
    "Q1. What is Min-Max scaling, and how is it used in data preprocessing? Provide an example to illustrate its\n",
    "application."
   ]
  },
  {
   "cell_type": "markdown",
   "id": "0cf867cc-efde-4a39-94ee-eb2cbf508346",
   "metadata": {},
   "source": [
    "Ans:\n",
    "    \n",
    "Min-Max scaling, also known as normalization, is a technique used in data preprocessing to rescale the features of data to a fixed range, typically [0, 1] or [-1,1]. The purpose of Min-Max scaling is to ensure that all features have the same scale, which can be crucial for algorithms that are sensitive to the scale of input data, such as gradient descent and k-nearest neighbors.\n",
    "\n",
    "Usage in Data Preprocessing:\n",
    "\n",
    "Min-Max scaling is often used as a preprocessing step before feeding data into machine learning models. It helps in:\n",
    "\n",
    "Ensuring that the model converges faster during training because features with similar scales often result in a smoother gradient descent process.\n",
    "\n",
    "Improving the performance and accuracy of the model, especially for distance-based algorithms like k-nearest neighbors and SVMs.\n",
    "\n",
    "Making the feature values easier to interpret and compare."
   ]
  },
  {
   "cell_type": "code",
   "execution_count": 1,
   "id": "32207fc7-39eb-46d8-9001-941a537913a2",
   "metadata": {},
   "outputs": [
    {
     "name": "stdout",
     "output_type": "stream",
     "text": [
      "[[0.        ]\n",
      " [0.27419355]\n",
      " [0.51612903]\n",
      " [0.83870968]\n",
      " [1.        ]]\n"
     ]
    }
   ],
   "source": [
    "from sklearn.preprocessing import MinMaxScaler\n",
    "import numpy as np\n",
    "\n",
    "# Sample data\n",
    "data = np.array([[18], [35], [50], [70], [80]])\n",
    "\n",
    "# Initialize the MinMaxScaler\n",
    "scaler = MinMaxScaler()\n",
    "\n",
    "# Fit and transform the data\n",
    "scaled_data = scaler.fit_transform(data)\n",
    "\n",
    "print(scaled_data)\n"
   ]
  },
  {
   "cell_type": "code",
   "execution_count": null,
   "id": "32754955-ea65-49f2-bcea-9361d28acc6b",
   "metadata": {},
   "outputs": [],
   "source": []
  },
  {
   "cell_type": "markdown",
   "id": "c0802105-0b00-43bd-a2de-28d726f8d7b0",
   "metadata": {},
   "source": [
    "Q2. What is the Unit Vector technique in feature scaling, and how does it differ from Min-Max scaling?\n",
    "Provide an example to illustrate its application."
   ]
  },
  {
   "cell_type": "markdown",
   "id": "d199ff88-b1ae-464e-a783-2ee6998ea225",
   "metadata": {},
   "source": [
    "Ans:\n",
    "    \n",
    "The Unit Vector technique, also known as vector normalization or scaling to unit norm, is a feature scaling method that transforms each data point (or vector) so that it has a unit norm (i.e., its length or magnitude is 1). This is done by dividing each feature value by the vector's norm, usually the Euclidean norm (L2 norm).\n",
    "\n",
    "Differences from Min-Max Scaling\n",
    "\n",
    "Scale: Min-Max scaling rescales features to a fixed range (e.g., [0, 1] or [-1, 1]), while the Unit Vector technique rescales vectors to have a unit norm.\n",
    "\n",
    "Purpose: Min-Max scaling ensures that all features are on a similar scale, which is important for algorithms sensitive to the scale of input data. Unit Vector scaling ensures that the direction of vectors is preserved, which is useful for algorithms that depend on the direction rather than the magnitude of vectors, such as cosine similarity."
   ]
  },
  {
   "cell_type": "code",
   "execution_count": 2,
   "id": "cc28e4e1-e41b-4419-a5c8-6ccbdef677d1",
   "metadata": {},
   "outputs": [
    {
     "name": "stdout",
     "output_type": "stream",
     "text": [
      "[[0.6        0.8       ]\n",
      " [0.4472136  0.89442719]\n",
      " [0.38461538 0.92307692]]\n"
     ]
    }
   ],
   "source": [
    "from sklearn.preprocessing import normalize\n",
    "import numpy as np\n",
    "\n",
    "# Sample data\n",
    "data = np.array([[3, 4], [1, 2], [5, 12]])\n",
    "\n",
    "# Normalize the data to unit norm\n",
    "normalized_data = normalize(data, norm='l2')\n",
    "\n",
    "print(normalized_data)\n"
   ]
  },
  {
   "cell_type": "code",
   "execution_count": null,
   "id": "8c7b7b9e-050f-44fc-a8b2-dca1648d23a5",
   "metadata": {},
   "outputs": [],
   "source": []
  },
  {
   "cell_type": "markdown",
   "id": "e00df216-e642-45ad-9b9a-8212d6bef45e",
   "metadata": {},
   "source": [
    "Q3. What is PCA (Principle Component Analysis), and how is it used in dimensionality reduction? Provide an\n",
    "example to illustrate its application."
   ]
  },
  {
   "cell_type": "markdown",
   "id": "2440373f-bc13-46fc-9aeb-53ab78055fbb",
   "metadata": {},
   "source": [
    "Ans:\n",
    "    \n",
    "Principal Component Analysis (PCA) is a statistical technique used for dimensionality reduction. It transforms a high-dimensional dataset into a lower-dimensional space by identifying the directions (principal components) along which the variance of the data is maximized. These principal components are orthogonal to each other and ordered such that the first few retain most of the variation present in the original dataset.\n",
    "\n"
   ]
  },
  {
   "cell_type": "code",
   "execution_count": 3,
   "id": "0a6839e9-7c7d-45b2-a098-73b1d97805b0",
   "metadata": {},
   "outputs": [
    {
     "name": "stdout",
     "output_type": "stream",
     "text": [
      "[[ 5.19615242 -0.        ]\n",
      " [ 3.46410162 -0.        ]\n",
      " [ 1.73205081  0.        ]\n",
      " [-0.          0.        ]\n",
      " [-1.73205081  0.        ]\n",
      " [-3.46410162  0.        ]\n",
      " [-5.19615242  0.        ]]\n"
     ]
    }
   ],
   "source": [
    "import numpy as np\n",
    "from sklearn.decomposition import PCA\n",
    "\n",
    "# Sample data\n",
    "data = np.array([\n",
    "    [2, 8, 4],\n",
    "    [3, 7, 5],\n",
    "    [4, 6, 6],\n",
    "    [5, 5, 7],\n",
    "    [6, 4, 8],\n",
    "    [7, 3, 9],\n",
    "    [8, 2, 10]\n",
    "])\n",
    "\n",
    "# Initialize PCA with 2 components\n",
    "pca = PCA(n_components=2)\n",
    "\n",
    "# Fit and transform the data\n",
    "transformed_data = pca.fit_transform(data)\n",
    "\n",
    "print(transformed_data)\n"
   ]
  },
  {
   "cell_type": "code",
   "execution_count": null,
   "id": "95f1337c-bd27-468d-a104-8a3ff84e5b15",
   "metadata": {},
   "outputs": [],
   "source": []
  },
  {
   "cell_type": "markdown",
   "id": "d2b83b0d-eb0b-458c-bc68-471a83c5d8be",
   "metadata": {},
   "source": [
    "Q4. What is the relationship between PCA and Feature Extraction, and how can PCA be used for Feature\n",
    "Extraction? Provide an example to illustrate this concept."
   ]
  },
  {
   "cell_type": "markdown",
   "id": "e0145e8f-31eb-480f-af6c-5aaec416c905",
   "metadata": {},
   "source": [
    "Ans:\n",
    "    \n",
    "Relationship Between PCA and Feature Extraction\n",
    "\n",
    "PCA\n",
    "\n",
    "PCA is a statistical procedure that transforms the original features of a dataset into a new set of uncorrelated features, known as principal components. These principal components are linear combinations of the original features and are ordered by the amount of variance they capture from the data. The first principal component captures the most variance, the second captures the second most, and so on.\n",
    "\n",
    "Feature Extraction\n",
    "\n",
    "Feature extraction involves transforming the original data into a new set of features that retain essential information while reducing redundancy. The goal is to improve the performance of machine learning models by using a smaller number of more informative features.\n",
    "\n",
    "PCA as a Feature Extraction Technique\n",
    "\n",
    "PCA helps in feature extraction by identifying the principal components that capture the most variance in the data. By selecting a subset of these components, we can reduce the dimensionality of the data while preserving the most important information. This process can lead to improved model performance, reduced overfitting, and faster computation.\n",
    "\n",
    "Example of PCA for Feature Extraction\n",
    "\n",
    "Let's consider an example using a dataset with multiple features. We'll use PCA to extract the principal components and reduce the dimensionality of the data.\n",
    "\n",
    "Step-by-Step Example\n",
    "\n",
    "1. Load the Data: Assume we have a dataset with multiple features. For this example, let's use the Iris dataset, which has four features (sepal length, sepal width, petal length, petal width).\n",
    "\n",
    "2. Standardize the Data: Standardizing the data ensures that each feature has a mean of 0 and a standard deviation of 1, which is important for PCA.\n",
    "\n",
    "3. Compute the Covariance Matrix: The covariance matrix captures the variance and covariance between features.\n",
    "\n",
    "4. Compute the Eigenvalues and Eigenvectors: The eigenvalues represent the amount of variance captured by each principal component, and the eigenvectors represent the direction of the principal components.\n",
    "\n",
    "5. Select Principal Components: Choose the top principal components that capture the most variance.\n",
    "\n",
    "6. Transform the Data: Project the original data onto the selected principal components to obtain the new feature set."
   ]
  },
  {
   "cell_type": "code",
   "execution_count": 2,
   "id": "d58ae8c5-4cdf-4301-8f8e-169c673807f4",
   "metadata": {},
   "outputs": [
    {
     "data": {
      "image/png": "[encoded data removed]",
      "text/plain": [
       "<Figure size 800x600 with 2 Axes>"
      ]
     },
     "metadata": {},
     "output_type": "display_data"
    },
    {
     "name": "stdout",
     "output_type": "stream",
     "text": [
      "Explained variance by each component: [0.72962445 0.22850762]\n"
     ]
    }
   ],
   "source": [
    "import numpy as np\n",
    "import pandas as pd\n",
    "from sklearn.datasets import load_iris\n",
    "from sklearn.preprocessing import StandardScaler\n",
    "from sklearn.decomposition import PCA\n",
    "import matplotlib.pyplot as plt\n",
    "\n",
    "# Load the Iris dataset\n",
    "iris = load_iris()\n",
    "X = iris.data\n",
    "y = iris.target\n",
    "\n",
    "# Standardize the data\n",
    "scaler = StandardScaler()\n",
    "X_scaled = scaler.fit_transform(X)\n",
    "\n",
    "# Perform PCA\n",
    "pca = PCA(n_components=2)  # Reduce to 2 principal components\n",
    "X_pca = pca.fit_transform(X_scaled)\n",
    "\n",
    "# Plot the transformed data\n",
    "plt.figure(figsize=(8, 6))\n",
    "plt.scatter(X_pca[:, 0], X_pca[:, 1], c=y, cmap='viridis', edgecolor='k', s=150)\n",
    "plt.xlabel('Principal Component 1')\n",
    "plt.ylabel('Principal Component 2')\n",
    "plt.title('PCA of Iris Dataset')\n",
    "plt.colorbar()\n",
    "plt.show()\n",
    "\n",
    "# Explained variance\n",
    "print(\"Explained variance by each component:\", pca.explained_variance_ratio_)\n"
   ]
  },
  {
   "cell_type": "code",
   "execution_count": null,
   "id": "f6c003fb-5be2-49d5-988b-caadccae5bd2",
   "metadata": {},
   "outputs": [],
   "source": []
  },
  {
   "cell_type": "markdown",
   "id": "a5440777-02d6-4b7b-8a7c-834c3218d415",
   "metadata": {},
   "source": [
    "Q5. You are working on a project to build a recommendation system for a food delivery service. The dataset\n",
    "contains features such as price, rating, and delivery time. Explain how you would use Min-Max scaling to\n",
    "preprocess the data."
   ]
  },
  {
   "cell_type": "code",
   "execution_count": 8,
   "id": "c30f8107-2862-4c3f-85f9-af7dbef2a348",
   "metadata": {},
   "outputs": [
    {
     "data": {
      "text/html": [
       "<div>\n",
       "<style scoped>\n",
       "    .dataframe tbody tr th:only-of-type {\n",
       "        vertical-align: middle;\n",
       "    }\n",
       "\n",
       "    .dataframe tbody tr th {\n",
       "        vertical-align: top;\n",
       "    }\n",
       "\n",
       "    .dataframe thead th {\n",
       "        text-align: right;\n",
       "    }\n",
       "</style>\n",
       "<table border=\"1\" class=\"dataframe\">\n",
       "  <thead>\n",
       "    <tr style=\"text-align: right;\">\n",
       "      <th></th>\n",
       "      <th>Price</th>\n",
       "      <th>Rating</th>\n",
       "      <th>Delivery Time</th>\n",
       "    </tr>\n",
       "  </thead>\n",
       "  <tbody>\n",
       "    <tr>\n",
       "      <th>0</th>\n",
       "      <td>10</td>\n",
       "      <td>4.5</td>\n",
       "      <td>30</td>\n",
       "    </tr>\n",
       "    <tr>\n",
       "      <th>1</th>\n",
       "      <td>15</td>\n",
       "      <td>4.0</td>\n",
       "      <td>25</td>\n",
       "    </tr>\n",
       "    <tr>\n",
       "      <th>2</th>\n",
       "      <td>20</td>\n",
       "      <td>3.5</td>\n",
       "      <td>40</td>\n",
       "    </tr>\n",
       "    <tr>\n",
       "      <th>3</th>\n",
       "      <td>12</td>\n",
       "      <td>5.0</td>\n",
       "      <td>35</td>\n",
       "    </tr>\n",
       "    <tr>\n",
       "      <th>4</th>\n",
       "      <td>18</td>\n",
       "      <td>3.8</td>\n",
       "      <td>20</td>\n",
       "    </tr>\n",
       "  </tbody>\n",
       "</table>\n",
       "</div>"
      ],
      "text/plain": [
       "   Price  Rating  Delivery Time\n",
       "0     10     4.5             30\n",
       "1     15     4.0             25\n",
       "2     20     3.5             40\n",
       "3     12     5.0             35\n",
       "4     18     3.8             20"
      ]
     },
     "execution_count": 8,
     "metadata": {},
     "output_type": "execute_result"
    }
   ],
   "source": [
    "import pandas as pd\n",
    "\n",
    "# Sample data\n",
    "data = {\n",
    "    'Price': [10, 15, 20, 12, 18],\n",
    "    'Rating': [4.5, 4.0, 3.5, 5.0, 3.8],\n",
    "    'Delivery Time': [30, 25, 40, 35, 20]\n",
    "}\n",
    "\n",
    "df = pd.DataFrame(data)\n",
    "df\n"
   ]
  },
  {
   "cell_type": "code",
   "execution_count": 6,
   "id": "d3979d1d-f3c0-4152-aa73-c0947c28a645",
   "metadata": {},
   "outputs": [
    {
     "name": "stdout",
     "output_type": "stream",
     "text": [
      "           Price    Rating  Delivery Time\n",
      "count   5.000000  5.000000       5.000000\n",
      "mean   15.000000  4.160000      30.000000\n",
      "std     4.123106  0.594138       7.905694\n",
      "min    10.000000  3.500000      20.000000\n",
      "25%    12.000000  3.800000      25.000000\n",
      "50%    15.000000  4.000000      30.000000\n",
      "75%    18.000000  4.500000      35.000000\n",
      "max    20.000000  5.000000      40.000000\n",
      "Price            0\n",
      "Rating           0\n",
      "Delivery Time    0\n",
      "dtype: int64\n"
     ]
    }
   ],
   "source": [
    "print(df.describe())\n",
    "print(df.isnull().sum())"
   ]
  },
  {
   "cell_type": "code",
   "execution_count": 7,
   "id": "e7a69a8f-a30b-4149-b217-37896f5b5e70",
   "metadata": {},
   "outputs": [
    {
     "name": "stdout",
     "output_type": "stream",
     "text": [
      "   Price    Rating  Delivery Time\n",
      "0    0.0  0.666667           0.50\n",
      "1    0.5  0.333333           0.25\n",
      "2    1.0  0.000000           1.00\n",
      "3    0.2  1.000000           0.75\n",
      "4    0.8  0.200000           0.00\n"
     ]
    }
   ],
   "source": [
    "from sklearn.preprocessing import MinMaxScaler\n",
    "\n",
    "# Initialize the scaler\n",
    "scaler = MinMaxScaler()\n",
    "\n",
    "# Fit and transform the data\n",
    "scaled_data = scaler.fit_transform(df)\n",
    "\n",
    "# Convert the scaled data back to a DataFrame\n",
    "scaled_df = pd.DataFrame(scaled_data, columns=df.columns)\n",
    "\n",
    "print(scaled_df)"
   ]
  },
  {
   "cell_type": "code",
   "execution_count": null,
   "id": "35bdada9-b7ab-47c8-91c5-c6f698695d4e",
   "metadata": {},
   "outputs": [],
   "source": []
  },
  {
   "cell_type": "markdown",
   "id": "974ea188-ef4a-4294-b267-9ed7c843ba97",
   "metadata": {},
   "source": [
    "Q6. You are working on a project to build a model to predict stock prices. The dataset contains many\n",
    "features, such as company financial data and market trends. Explain how you would use PCA to reduce the\n",
    "dimensionality of the dataset."
   ]
  },
  {
   "cell_type": "code",
   "execution_count": 10,
   "id": "484b44ba-a9c6-4f29-93f0-758d90e6986c",
   "metadata": {},
   "outputs": [
    {
     "name": "stdout",
     "output_type": "stream",
     "text": [
      "      Revenue     Profit       Assets  Liabilities   Market Cap   PE Ratio  \\\n",
      "0  374.540119  18.513293   523.411367   672.702994  2859.979391  11.809066   \n",
      "1  950.714306  54.190095   493.957598   796.681397  4027.161646  14.203070   \n",
      "2  731.993942  87.294584  1812.509161   250.467899  3800.804649  25.636422   \n",
      "3  598.658484  73.222489   499.092400   624.874100   769.499523  10.200132   \n",
      "4  156.018640  80.656115   543.899452   571.745983   746.247349  26.089491   \n",
      "\n",
      "   Volume  Stock Price  \n",
      "0  274120   202.847200  \n",
      "1  639464   272.325240  \n",
      "2  100122   218.931153  \n",
      "3  333548   220.639059  \n",
      "4  345076    24.005481  \n"
     ]
    }
   ],
   "source": [
    "import pandas as pd\n",
    "import numpy as np\n",
    "\n",
    "# Set random seed for reproducibility\n",
    "np.random.seed(42)\n",
    "\n",
    "# Generate simulated data\n",
    "num_samples = 1000\n",
    "data = {\n",
    "    'Revenue': np.random.rand(num_samples) * 1000,  # in million dollars\n",
    "    'Profit': np.random.rand(num_samples) * 100,    # in million dollars\n",
    "    'Assets': np.random.rand(num_samples) * 2000,   # in million dollars\n",
    "    'Liabilities': np.random.rand(num_samples) * 1000,  # in million dollars\n",
    "    'Market Cap': np.random.rand(num_samples) * 5000,  # in million dollars\n",
    "    'PE Ratio': np.random.rand(num_samples) * 30,   # Price to Earnings Ratio\n",
    "    'Volume': np.random.randint(1000, 1000000, num_samples),  # Trading Volume\n",
    "    'Stock Price': np.random.rand(num_samples) * 300  # Stock Price in dollars\n",
    "}\n",
    "\n",
    "df = pd.DataFrame(data)\n",
    "\n",
    "# Display the first few rows of the dataframe\n",
    "print(df.head())\n"
   ]
  },
  {
   "cell_type": "code",
   "execution_count": 11,
   "id": "f0e5cabd-321d-491f-bce3-dd067aec6547",
   "metadata": {},
   "outputs": [],
   "source": [
    "from sklearn.preprocessing import StandardScaler\n",
    "\n",
    "# Separate features and target variable\n",
    "features = df.drop(columns=['Stock Price'])\n",
    "target = df['Stock Price']\n",
    "\n",
    "# Standardize the features\n",
    "scaler = StandardScaler()\n",
    "features_scaled = scaler.fit_transform(features)\n"
   ]
  },
  {
   "cell_type": "code",
   "execution_count": 12,
   "id": "fd57a23f-099a-4c18-a8dc-1461b06b7f62",
   "metadata": {},
   "outputs": [
    {
     "name": "stdout",
     "output_type": "stream",
     "text": [
      "Number of components to retain: 7\n"
     ]
    }
   ],
   "source": [
    "from sklearn.decomposition import PCA\n",
    "\n",
    "# Initialize PCA\n",
    "pca = PCA()\n",
    "\n",
    "# Fit PCA on the standardized data\n",
    "pca.fit(features_scaled)\n",
    "\n",
    "# Calculate the explained variance for each principal component\n",
    "explained_variance = pca.explained_variance_ratio_\n",
    "\n",
    "# Determine the number of components to retain\n",
    "import numpy as np\n",
    "\n",
    "# Cumulative explained variance\n",
    "cumulative_variance = np.cumsum(explained_variance)\n",
    "\n",
    "# Choose the number of components that explain, for example, 95% of the variance\n",
    "num_components = np.where(cumulative_variance >= 0.95)[0][0] + 1\n",
    "\n",
    "print(f'Number of components to retain: {num_components}')\n"
   ]
  },
  {
   "cell_type": "code",
   "execution_count": 13,
   "id": "c37bce12-e6ed-4103-9b64-6af6429ea18d",
   "metadata": {},
   "outputs": [],
   "source": [
    "# Initialize PCA with the chosen number of components\n",
    "pca = PCA(n_components=num_components)\n",
    "\n",
    "# Fit and transform the data\n",
    "features_pca = pca.fit_transform(features_scaled)\n"
   ]
  },
  {
   "cell_type": "code",
   "execution_count": 14,
   "id": "31accc15-94ab-41d6-a313-90b93683a3a5",
   "metadata": {},
   "outputs": [
    {
     "name": "stdout",
     "output_type": "stream",
     "text": [
      "Mean Squared Error: 7242.176695211229\n"
     ]
    }
   ],
   "source": [
    "from sklearn.model_selection import train_test_split\n",
    "from sklearn.linear_model import LinearRegression\n",
    "from sklearn.metrics import mean_squared_error\n",
    "\n",
    "# Split the data into training and testing sets\n",
    "X_train, X_test, y_train, y_test = train_test_split(features_pca, target, test_size=0.2, random_state=42)\n",
    "\n",
    "# Train a model (e.g., Linear Regression)\n",
    "model = LinearRegression()\n",
    "model.fit(X_train, y_train)\n",
    "\n",
    "# Predict and evaluate\n",
    "y_pred = model.predict(X_test)\n",
    "mse = mean_squared_error(y_test, y_pred)\n",
    "print(f'Mean Squared Error: {mse}')\n"
   ]
  },
  {
   "cell_type": "code",
   "execution_count": null,
   "id": "55d2c18d-2b37-492c-a499-24c7516c3fc5",
   "metadata": {},
   "outputs": [],
   "source": []
  },
  {
   "cell_type": "markdown",
   "id": "63287117-4021-44c0-8c41-b8f237eb59bd",
   "metadata": {},
   "source": [
    "Q7. For a dataset containing the following values: [1, 5, 10, 15, 20], perform Min-Max scaling to transform the\n",
    "values to a range of -1 to 1."
   ]
  },
  {
   "cell_type": "code",
   "execution_count": 15,
   "id": "da4c08f6-141a-4705-bd66-bd25d9a30a58",
   "metadata": {},
   "outputs": [
    {
     "name": "stdout",
     "output_type": "stream",
     "text": [
      "Original data: [ 1  5 10 15 20]\n",
      "Scaled data: [-1.         -0.57894737 -0.05263158  0.47368421  1.        ]\n"
     ]
    }
   ],
   "source": [
    "import numpy as np\n",
    "\n",
    "# Original dataset\n",
    "data = np.array([1, 5, 10, 15, 20])\n",
    "\n",
    "# Min and max values of the original dataset\n",
    "X_min = np.min(data)\n",
    "X_max = np.max(data)\n",
    "\n",
    "# Desired range\n",
    "X_new_min = -1\n",
    "X_new_max = 1\n",
    "\n",
    "# Min-Max scaling formula\n",
    "data_scaled = ((data - X_min) / (X_max - X_min)) * (X_new_max - X_new_min) + X_new_min\n",
    "\n",
    "print(\"Original data:\", data)\n",
    "print(\"Scaled data:\", data_scaled)\n"
   ]
  },
  {
   "cell_type": "code",
   "execution_count": null,
   "id": "997318f8-4793-4ad3-86e0-33734667b4b7",
   "metadata": {},
   "outputs": [],
   "source": []
  },
  {
   "cell_type": "markdown",
   "id": "f777dcf6-2499-4855-8975-82b7fb21f39f",
   "metadata": {},
   "source": [
    "Q8. For a dataset containing the following features: [height, weight, age, gender, blood pressure], perform\n",
    "Feature Extraction using PCA. How many principal components would you choose to retain, and why?"
   ]
  },
  {
   "cell_type": "code",
   "execution_count": 21,
   "id": "695c8aa2-72ec-4e9a-bba2-acfcc5c3efa9",
   "metadata": {},
   "outputs": [
    {
     "data": {
      "text/html": [
       "<div>\n",
       "<style scoped>\n",
       "    .dataframe tbody tr th:only-of-type {\n",
       "        vertical-align: middle;\n",
       "    }\n",
       "\n",
       "    .dataframe tbody tr th {\n",
       "        vertical-align: top;\n",
       "    }\n",
       "\n",
       "    .dataframe thead th {\n",
       "        text-align: right;\n",
       "    }\n",
       "</style>\n",
       "<table border=\"1\" class=\"dataframe\">\n",
       "  <thead>\n",
       "    <tr style=\"text-align: right;\">\n",
       "      <th></th>\n",
       "      <th>height</th>\n",
       "      <th>weight</th>\n",
       "      <th>age</th>\n",
       "      <th>gender</th>\n",
       "      <th>blood_pressure</th>\n",
       "    </tr>\n",
       "  </thead>\n",
       "  <tbody>\n",
       "    <tr>\n",
       "      <th>0</th>\n",
       "      <td>183.015930</td>\n",
       "      <td>70.672273</td>\n",
       "      <td>33</td>\n",
       "      <td>0</td>\n",
       "      <td>109.632687</td>\n",
       "    </tr>\n",
       "    <tr>\n",
       "      <th>1</th>\n",
       "      <td>163.085878</td>\n",
       "      <td>77.999104</td>\n",
       "      <td>30</td>\n",
       "      <td>1</td>\n",
       "      <td>110.397017</td>\n",
       "    </tr>\n",
       "    <tr>\n",
       "      <th>2</th>\n",
       "      <td>178.611845</td>\n",
       "      <td>60.222889</td>\n",
       "      <td>26</td>\n",
       "      <td>1</td>\n",
       "      <td>107.551103</td>\n",
       "    </tr>\n",
       "    <tr>\n",
       "      <th>3</th>\n",
       "      <td>159.201938</td>\n",
       "      <td>64.538407</td>\n",
       "      <td>48</td>\n",
       "      <td>1</td>\n",
       "      <td>120.008491</td>\n",
       "    </tr>\n",
       "    <tr>\n",
       "      <th>4</th>\n",
       "      <td>190.737787</td>\n",
       "      <td>84.490612</td>\n",
       "      <td>29</td>\n",
       "      <td>0</td>\n",
       "      <td>107.202817</td>\n",
       "    </tr>\n",
       "    <tr>\n",
       "      <th>...</th>\n",
       "      <td>...</td>\n",
       "      <td>...</td>\n",
       "      <td>...</td>\n",
       "      <td>...</td>\n",
       "      <td>...</td>\n",
       "    </tr>\n",
       "    <tr>\n",
       "      <th>95</th>\n",
       "      <td>170.829206</td>\n",
       "      <td>59.559698</td>\n",
       "      <td>65</td>\n",
       "      <td>0</td>\n",
       "      <td>130.820172</td>\n",
       "    </tr>\n",
       "    <tr>\n",
       "      <th>96</th>\n",
       "      <td>184.822995</td>\n",
       "      <td>89.581036</td>\n",
       "      <td>56</td>\n",
       "      <td>1</td>\n",
       "      <td>116.690855</td>\n",
       "    </tr>\n",
       "    <tr>\n",
       "      <th>97</th>\n",
       "      <td>159.675210</td>\n",
       "      <td>46.307419</td>\n",
       "      <td>49</td>\n",
       "      <td>0</td>\n",
       "      <td>122.475217</td>\n",
       "    </tr>\n",
       "    <tr>\n",
       "      <th>98</th>\n",
       "      <td>168.477020</td>\n",
       "      <td>54.421655</td>\n",
       "      <td>72</td>\n",
       "      <td>1</td>\n",
       "      <td>122.904602</td>\n",
       "    </tr>\n",
       "    <tr>\n",
       "      <th>99</th>\n",
       "      <td>163.593164</td>\n",
       "      <td>89.386441</td>\n",
       "      <td>38</td>\n",
       "      <td>1</td>\n",
       "      <td>119.132494</td>\n",
       "    </tr>\n",
       "  </tbody>\n",
       "</table>\n",
       "<p>100 rows × 5 columns</p>\n",
       "</div>"
      ],
      "text/plain": [
       "        height     weight  age  gender  blood_pressure\n",
       "0   183.015930  70.672273   33       0      109.632687\n",
       "1   163.085878  77.999104   30       1      110.397017\n",
       "2   178.611845  60.222889   26       1      107.551103\n",
       "3   159.201938  64.538407   48       1      120.008491\n",
       "4   190.737787  84.490612   29       0      107.202817\n",
       "..         ...        ...  ...     ...             ...\n",
       "95  170.829206  59.559698   65       0      130.820172\n",
       "96  184.822995  89.581036   56       1      116.690855\n",
       "97  159.675210  46.307419   49       0      122.475217\n",
       "98  168.477020  54.421655   72       1      122.904602\n",
       "99  163.593164  89.386441   38       1      119.132494\n",
       "\n",
       "[100 rows x 5 columns]"
      ]
     },
     "execution_count": 21,
     "metadata": {},
     "output_type": "execute_result"
    }
   ],
   "source": [
    "import pandas as pd\n",
    "import numpy as np\n",
    "\n",
    "# Sample data\n",
    "data = {\n",
    "    'height': np.random.normal(170, 10, 100),  # cm\n",
    "    'weight': np.random.normal(70, 15, 100),   # kg\n",
    "    'age': np.random.randint(20, 80, 100),     # years\n",
    "    'gender': np.random.choice([0, 1], 100),   # 0 for female, 1 for male\n",
    "    'blood_pressure': np.random.normal(120, 10, 100)  # mmHg\n",
    "}\n",
    "\n",
    "df = pd.DataFrame(data)\n",
    "df"
   ]
  },
  {
   "cell_type": "code",
   "execution_count": 23,
   "id": "c4a5b6b7-5f66-4401-91e0-9251255bd238",
   "metadata": {},
   "outputs": [],
   "source": [
    "from sklearn.preprocessing import StandardScaler\n",
    "\n",
    "# Standardize the features\n",
    "scaler = StandardScaler()\n",
    "features_scaled = scaler.fit_transform(df)\n"
   ]
  },
  {
   "cell_type": "code",
   "execution_count": 24,
   "id": "53a7214d-d831-4e62-bf33-47d13696ef32",
   "metadata": {},
   "outputs": [
    {
     "data": {
      "text/plain": [
       "array([0.2477074 , 0.47805137, 0.6836103 , 0.86281965, 1.        ])"
      ]
     },
     "execution_count": 24,
     "metadata": {},
     "output_type": "execute_result"
    }
   ],
   "source": [
    "from sklearn.decomposition import PCA\n",
    "\n",
    "# Initialize PCA\n",
    "pca = PCA()\n",
    "\n",
    "# Fit PCA on the standardized data\n",
    "pca.fit(features_scaled)\n",
    "\n",
    "# Calculate the explained variance for each principal component\n",
    "explained_variance = pca.explained_variance_ratio_\n",
    "\n",
    "# Cumulative explained variance\n",
    "cumulative_variance = np.cumsum(explained_variance)\n",
    "\n",
    "cumulative_variance"
   ]
  },
  {
   "cell_type": "code",
   "execution_count": 20,
   "id": "6c089ca6-296a-4ba4-841f-d62b0b85722f",
   "metadata": {},
   "outputs": [
    {
     "data": {
      "image/png": "[encoded data removed]",
      "text/plain": [
       "<Figure size 800x500 with 1 Axes>"
      ]
     },
     "metadata": {},
     "output_type": "display_data"
    },
    {
     "name": "stdout",
     "output_type": "stream",
     "text": [
      "Number of components to retain for 95% variance: 5\n"
     ]
    }
   ],
   "source": [
    "import matplotlib.pyplot as plt\n",
    "\n",
    "plt.figure(figsize=(8, 5))\n",
    "plt.plot(range(1, len(cumulative_variance) + 1), cumulative_variance, marker='o', linestyle='--')\n",
    "plt.xlabel('Number of Principal Components')\n",
    "plt.ylabel('Cumulative Explained Variance')\n",
    "plt.title('Cumulative Explained Variance by Number of Principal Components')\n",
    "plt.grid(True)\n",
    "plt.show()\n",
    "\n",
    "# Determine the number of components to retain for 95% variance\n",
    "num_components_95 = np.where(cumulative_variance >= 0.95)[0][0] + 1\n",
    "print(f'Number of components to retain for 95% variance: {num_components_95}')\n"
   ]
  },
  {
   "cell_type": "code",
   "execution_count": null,
   "id": "37ba47a5-b696-4302-98ee-872adc5f2dbf",
   "metadata": {},
   "outputs": [],
   "source": []
  }
 ],
 "metadata": {
  "kernelspec": {
   "display_name": "Python 3 (ipykernel)",
   "language": "python",
   "name": "python3"
  },
  "language_info": {
   "codemirror_mode": {
    "name": "ipython",
    "version": 3
   },
   "file_extension": ".py",
   "mimetype": "text/x-python",
   "name": "python",
   "nbconvert_exporter": "python",
   "pygments_lexer": "ipython3",
   "version": "3.10.8"
  }
 },
 "nbformat": 4,
 "nbformat_minor": 5
}
